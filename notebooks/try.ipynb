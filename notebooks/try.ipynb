{
 "cells": [
  {
   "cell_type": "code",
   "execution_count": 1,
   "id": "4ba4d489",
   "metadata": {},
   "outputs": [],
   "source": [
    "from langchain.document_loaders import PyPDFLoader , DirectoryLoader"
   ]
  },
  {
   "cell_type": "code",
   "execution_count": 2,
   "id": "ad29a4cf",
   "metadata": {},
   "outputs": [],
   "source": [
    "from langchain.text_splitter import RecursiveCharacterTextSplitter"
   ]
  },
  {
   "cell_type": "code",
   "execution_count": 9,
   "id": "29bfe064",
   "metadata": {},
   "outputs": [],
   "source": [
    "#Extract text from pdf file\n",
    "def load_pdf(data):\n",
    "    loader = DirectoryLoader(data, glob=\"**/*.pdf\", loader_cls=PyPDFLoader)\n",
    "    documents = loader.load()\n",
    "    print(f'You have {len(documents)} document(s) in your data.')\n",
    "    return documents"
   ]
  },
  {
   "cell_type": "code",
   "execution_count": 10,
   "id": "d6c2f749",
   "metadata": {},
   "outputs": [
    {
     "name": "stdout",
     "output_type": "stream",
     "text": [
      "You have 637 document(s) in your data.\n"
     ]
    }
   ],
   "source": [
    "extract_data = load_pdf(\"C:\\\\projects\\\\MEDICAL_CHAT_BOT\\\\data\\\\\")"
   ]
  },
  {
   "cell_type": "code",
   "execution_count": 14,
   "id": "f78364c0",
   "metadata": {},
   "outputs": [],
   "source": [
    "def text_splitter(documents):\n",
    "    text_splitter = RecursiveCharacterTextSplitter(chunk_size=500, chunk_overlap=200)\n",
    "    texts = text_splitter.split_documents(documents)\n",
    "    print(f'Now you have {len(texts)} chunks of documents.')\n",
    "    print(\"now you can use these chunks for further processing.\")\n",
    "    return texts"
   ]
  },
  {
   "cell_type": "code",
   "execution_count": 15,
   "id": "5e34e64f",
   "metadata": {},
   "outputs": [
    {
     "name": "stdout",
     "output_type": "stream",
     "text": [
      "Now you have 8646 chunks of documents.\n",
      "now you can use these chunks for further processing.\n"
     ]
    }
   ],
   "source": [
    "text_chunk = text_splitter(extract_data)"
   ]
  },
  {
   "cell_type": "code",
   "execution_count": 19,
   "id": "e7c4c3e6",
   "metadata": {},
   "outputs": [],
   "source": [
    "from langchain.embeddings import HuggingFaceEmbeddings"
   ]
  },
  {
   "cell_type": "code",
   "execution_count": 21,
   "id": "160c4a15",
   "metadata": {},
   "outputs": [],
   "source": [
    "def download_hugging_face_embeddings():\n",
    "    embeddings = HuggingFaceEmbeddings(model_name=\"all-MiniLM-L6-v2\") #384 dimension\n",
    "    return embeddings\n"
   ]
  },
  {
   "cell_type": "code",
   "execution_count": 22,
   "id": "24b2fb16",
   "metadata": {},
   "outputs": [
    {
     "name": "stderr",
     "output_type": "stream",
     "text": [
      "C:\\Users\\Adnan\\AppData\\Local\\Temp\\ipykernel_8264\\730655652.py:2: LangChainDeprecationWarning: The class `HuggingFaceEmbeddings` was deprecated in LangChain 0.2.2 and will be removed in 1.0. An updated version of the class exists in the :class:`~langchain-huggingface package and should be used instead. To use it run `pip install -U :class:`~langchain-huggingface` and import as `from :class:`~langchain_huggingface import HuggingFaceEmbeddings``.\n",
      "  embeddings = HuggingFaceEmbeddings(model_name=\"all-MiniLM-L6-v2\") #384 dimension\n",
      "c:\\projects\\venv\\Lib\\site-packages\\tqdm\\auto.py:21: TqdmWarning: IProgress not found. Please update jupyter and ipywidgets. See https://ipywidgets.readthedocs.io/en/stable/user_install.html\n",
      "  from .autonotebook import tqdm as notebook_tqdm\n",
      "c:\\projects\\venv\\Lib\\site-packages\\huggingface_hub\\file_download.py:143: UserWarning: `huggingface_hub` cache-system uses symlinks by default to efficiently store duplicated files but your machine does not support them in C:\\Users\\Adnan\\.cache\\huggingface\\hub\\models--sentence-transformers--all-MiniLM-L6-v2. Caching files will still work but in a degraded version that might require more space on your disk. This warning can be disabled by setting the `HF_HUB_DISABLE_SYMLINKS_WARNING` environment variable. For more details, see https://huggingface.co/docs/huggingface_hub/how-to-cache#limitations.\n",
      "To support symlinks on Windows, you either need to activate Developer Mode or to run Python as an administrator. In order to activate developer mode, see this article: https://docs.microsoft.com/en-us/windows/apps/get-started/enable-your-device-for-development\n",
      "  warnings.warn(message)\n",
      "Xet Storage is enabled for this repo, but the 'hf_xet' package is not installed. Falling back to regular HTTP download. For better performance, install the package with: `pip install huggingface_hub[hf_xet]` or `pip install hf_xet`\n"
     ]
    }
   ],
   "source": [
    "embedding = download_hugging_face_embeddings()"
   ]
  },
  {
   "cell_type": "code",
   "execution_count": 34,
   "id": "a5084a0a",
   "metadata": {},
   "outputs": [
    {
     "data": {
      "text/plain": [
       "True"
      ]
     },
     "execution_count": 34,
     "metadata": {},
     "output_type": "execute_result"
    }
   ],
   "source": [
    "import os\n",
    "from dotenv import load_dotenv\n",
    "load_dotenv()\n"
   ]
  },
  {
   "cell_type": "code",
   "execution_count": 39,
   "id": "6bf5bd8e",
   "metadata": {},
   "outputs": [],
   "source": [
    "from pinecone import Pinecone, ServerlessSpec\n",
    "api_key = os.getenv(\"PINECONE_API_KEY\")\n",
    "pc = Pinecone(api_key=api_key)\n",
    "\n"
   ]
  },
  {
   "cell_type": "code",
   "execution_count": 44,
   "id": "e60add91",
   "metadata": {},
   "outputs": [
    {
     "data": {
      "text/plain": [
       "{\n",
       "    \"name\": \"medical-chatbot\",\n",
       "    \"metric\": \"cosine\",\n",
       "    \"host\": \"medical-chatbot-x7p01xr.svc.aped-4627-b74a.pinecone.io\",\n",
       "    \"spec\": {\n",
       "        \"serverless\": {\n",
       "            \"cloud\": \"aws\",\n",
       "            \"region\": \"us-east-1\"\n",
       "        }\n",
       "    },\n",
       "    \"status\": {\n",
       "        \"ready\": true,\n",
       "        \"state\": \"Ready\"\n",
       "    },\n",
       "    \"vector_type\": \"dense\",\n",
       "    \"dimension\": 384,\n",
       "    \"deletion_protection\": \"disabled\",\n",
       "    \"tags\": null\n",
       "}"
      ]
     },
     "execution_count": 44,
     "metadata": {},
     "output_type": "execute_result"
    }
   ],
   "source": [
    "index_name = \"medical-chatbot\"\n",
    "\n",
    "pc.create_index(\n",
    "    name=index_name,\n",
    "    dimension=384,\n",
    "    metric=\"cosine\",\n",
    "    spec=ServerlessSpec(\n",
    "        region=\"us-east-1\",\n",
    "        cloud=\"aws\"\n",
    "\n",
    "    )\n",
    ")"
   ]
  },
  {
   "cell_type": "code",
   "execution_count": 46,
   "id": "6d8d8fd4",
   "metadata": {},
   "outputs": [],
   "source": [
    "from langchain_pinecone import PineconeVectorStore"
   ]
  },
  {
   "cell_type": "code",
   "execution_count": 50,
   "id": "98e102d6",
   "metadata": {},
   "outputs": [],
   "source": [
    "docsearch = PineconeVectorStore.from_documents(\n",
    "    index_name=index_name,\n",
    "    embedding=embedding,\n",
    "    documents=text_chunk\n",
    ")\n"
   ]
  },
  {
   "cell_type": "code",
   "execution_count": 51,
   "id": "9a72b6de",
   "metadata": {},
   "outputs": [],
   "source": [
    "retrieval = docsearch.as_retriever(search_type=\"similarity\", search_kwargs={\"k\": 5})"
   ]
  },
  {
   "cell_type": "code",
   "execution_count": 68,
   "id": "13013204",
   "metadata": {},
   "outputs": [
    {
     "name": "stderr",
     "output_type": "stream",
     "text": [
      "<>:1: SyntaxWarning: invalid escape sequence '\\h'\n",
      "<>:1: SyntaxWarning: invalid escape sequence '\\h'\n",
      "C:\\Users\\Adnan\\AppData\\Local\\Temp\\ipykernel_8264\\1978453254.py:1: SyntaxWarning: invalid escape sequence '\\h'\n",
      "  answer = retrieval.get_relevant_documents(\"\\hlo baby ?\")\n"
     ]
    }
   ],
   "source": [
    "answer = retrieval.get_relevant_documents(\"\\hlo baby ?\")"
   ]
  },
  {
   "cell_type": "code",
   "execution_count": 69,
   "id": "f70a3a1e",
   "metadata": {},
   "outputs": [
    {
     "data": {
      "text/plain": [
       "[Document(id='d72bf105-c363-48c4-9111-a8d5409f177f', metadata={'creationdate': '2004-12-18T17:00:02-05:00', 'creator': 'PyPDF', 'moddate': '2004-12-18T16:15:31-06:00', 'page': 429.0, 'page_label': '430', 'producer': 'PDFlib+PDI 5.0.0 (SunOS)', 'source': 'C:\\\\projects\\\\MEDICAL_CHAT_BOT\\\\data\\\\Medical_book.pdf', 'total_pages': 637.0}, page_content='infant in utero are already functioning at four and half\\nmonths of age. Just as the umbilical cord provides nour-\\nishment to the unborn infant’s body, Tomatis postulated\\nthat the sound of the mother’s voice is also a nutrient\\nheard by the fetus. This sound literally charges and stimu-\\nlates the growth of the brain.\\nTomatis took this further, into the realm of language.\\nTomatis concluded that the need to communicate and to\\nbe understood are among our most basic needs. He was a'),\n",
       " Document(id='9c8a2f73-f221-4dc6-ad76-ac33a8c88f37', metadata={'creationdate': '2004-12-18T17:00:02-05:00', 'creator': 'PyPDF', 'moddate': '2004-12-18T16:15:31-06:00', 'page': 544.0, 'page_label': '545', 'producer': 'PDFlib+PDI 5.0.0 (SunOS)', 'source': 'C:\\\\projects\\\\MEDICAL_CHAT_BOT\\\\data\\\\Medical_book.pdf', 'total_pages': 637.0}, page_content='reaction can occur.\\nParents who are expecting a baby have their blood\\ntyped to diagnose and prevent hemolytic disease of the\\nnewborn (HDN), a type of anemia also known as ery-\\nthroblastosis fetalis . Babies who have a blood type dif-\\nferent from their mothers are at risk for developing this\\ndisease. The disease is serious with certain blood type\\ndifferences, but is milder with others.\\nA child inherits factors or genes from each parent\\nthat determine his blood type. This fact makes blood typ-'),\n",
       " Document(id='2b495011-cacb-4a3f-be66-1265f70b2b0e', metadata={'creationdate': '2004-12-18T17:00:02-05:00', 'creator': 'PyPDF', 'moddate': '2004-12-18T16:15:31-06:00', 'page': 505.0, 'page_label': '506', 'producer': 'PDFlib+PDI 5.0.0 (SunOS)', 'source': 'C:\\\\projects\\\\MEDICAL_CHAT_BOT\\\\data\\\\Medical_book.pdf', 'total_pages': 637.0}, page_content='this are usually caused by damage to the developing fetus\\nin utero. (Photograph by Dr. P . Marazzi, Photo Researchers, Inc.\\nReproduced by permission.)\\nGEM -0433 to 0624 - B  10/22/03 6:08 PM  Page 492'),\n",
       " Document(id='575b905b-f7f8-4bf0-8736-ddbb6befae07', metadata={'creationdate': '2004-12-18T17:00:02-05:00', 'creator': 'PyPDF', 'moddate': '2004-12-18T16:15:31-06:00', 'page': 607.0, 'page_label': '608', 'producer': 'PDFlib+PDI 5.0.0 (SunOS)', 'source': 'C:\\\\projects\\\\MEDICAL_CHAT_BOT\\\\data\\\\Medical_book.pdf', 'total_pages': 637.0}, page_content='baby is born from the breech position, the skull does not\\nhave a chance to change shape to fit the pelvis, and it is\\neven more likely to get stuck.\\nIf the baby’s head gets trapped, the possibility of\\ninjury is high. Once the baby’s body is born, the umbilical\\ncord usually stops pulsating (just as it would during a nor-\\nmal delivery). This cuts off the oxygen supply from the\\nmother to the baby. If the baby’s head is still inside the\\nuterus the baby cannot yet breathe on its own. Therefore,'),\n",
       " Document(id='18865153-8a28-46e3-9b87-0589d3c87663', metadata={'creationdate': '2004-12-18T17:00:02-05:00', 'creator': 'PyPDF', 'moddate': '2004-12-18T16:15:31-06:00', 'page': 345.0, 'page_label': '346', 'producer': 'PDFlib+PDI 5.0.0 (SunOS)', 'source': 'C:\\\\projects\\\\MEDICAL_CHAT_BOT\\\\data\\\\Medical_book.pdf', 'total_pages': 637.0}, page_content='perhaps just suctioning if breathing has been obstructed by\\nmucus. While suctioning is being done, a source of oxy-\\ngen may be placed near, but not over the newborn’s nose\\nand mouth. This form of oxygen is referred to as blow-by.\\nA score in the 4-6 range indicates that the neonate is hav-\\ning some difficulty adapting to extrauterine life. This may\\nbe due to medications given to the mother during a diffi-\\ncult labor, or at the very end of labor, when these medica-')]"
      ]
     },
     "execution_count": 69,
     "metadata": {},
     "output_type": "execute_result"
    }
   ],
   "source": [
    "answer"
   ]
  },
  {
   "cell_type": "code",
   "execution_count": 56,
   "id": "0336efe4",
   "metadata": {},
   "outputs": [],
   "source": [
    "from langchain_groq import ChatGroq"
   ]
  },
  {
   "cell_type": "code",
   "execution_count": 57,
   "id": "4f6482fb",
   "metadata": {},
   "outputs": [],
   "source": [
    "groq_api_key = os.getenv(\"GROQ_API_KEY\")\n",
    "model = ChatGroq(model=\"Gemma2-9b-It\", groq_api_key=groq_api_key)\n"
   ]
  },
  {
   "cell_type": "code",
   "execution_count": 71,
   "id": "25bcb180",
   "metadata": {},
   "outputs": [
    {
     "data": {
      "text/plain": [
       "'This document does not contain information about the symptoms of diabetes.  \\n\\n'"
      ]
     },
     "execution_count": 71,
     "metadata": {},
     "output_type": "execute_result"
    }
   ],
   "source": [
    "#make chain\n",
    "from langchain.chains import ConversationalRetrievalChain\n",
    "\n",
    "qa_chain = ConversationalRetrievalChain.from_llm(\n",
    "    llm=model,\n",
    "    retriever=retrieval\n",
    ")\n",
    "\n",
    "# Example user input\n",
    "user_input = \"What is diabetes?\"\n",
    "chat_history = []\n",
    "response = qa_chain({\n",
    "    \"question\": user_input,\n",
    "    \"chat_history\": chat_history\n",
    "})\n",
    "print(response['answer'])"
   ]
  },
  {
   "cell_type": "code",
   "execution_count": null,
   "id": "c0126cb4",
   "metadata": {},
   "outputs": [],
   "source": []
  }
 ],
 "metadata": {
  "kernelspec": {
   "display_name": "venv",
   "language": "python",
   "name": "python3"
  },
  "language_info": {
   "codemirror_mode": {
    "name": "ipython",
    "version": 3
   },
   "file_extension": ".py",
   "mimetype": "text/x-python",
   "name": "python",
   "nbconvert_exporter": "python",
   "pygments_lexer": "ipython3",
   "version": "3.13.3"
  }
 },
 "nbformat": 4,
 "nbformat_minor": 5
}
